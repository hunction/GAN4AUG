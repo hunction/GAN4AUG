{
 "cells": [
  {
   "cell_type": "code",
   "execution_count": 19,
   "id": "681bc605",
   "metadata": {},
   "outputs": [],
   "source": [
    "import tensorflow as tf\n",
    "\n",
    "import numpy as np\n",
    "import matplotlib.pyplot as plt\n",
    "import scipy\n",
    "import PIL as image\n",
    "\n",
    "from tensorflow.keras.preprocessing.image import load_img\n",
    "from tensorflow.keras.preprocessing.image import img_to_array, array_to_img\n",
    "from tensorflow.keras.preprocessing.image import ImageDataGenerator"
   ]
  },
  {
   "cell_type": "code",
   "execution_count": 20,
   "id": "1d2ddd86",
   "metadata": {},
   "outputs": [],
   "source": [
    "gen = ImageDataGenerator(rotation_range = 30, \n",
    "                         width_shift_range = 0.3, \n",
    "                         shear_range = 0.4, \n",
    "                         horizontal_flip = True)"
   ]
  },
  {
   "cell_type": "code",
   "execution_count": 21,
   "id": "ba48c079",
   "metadata": {},
   "outputs": [],
   "source": [
    "img_array_list = []\n",
    "img_names = ['./cleansing_data/cat_sample.jpg',\n",
    "             './cleansing_data/mask.png',\n",
    "             './cleansing_data/sample.JPG',\n",
    "             './cleansing_data/my_red_img.jpg']\n",
    "\n",
    "for i in range(len(img_names)):\n",
    "    loaded_img = load_img(img_names[i], target_size = (28,28))\n",
    "    loaded_img_array = img_to_array(loaded_img)/255.0 \n",
    "    \n",
    "    img_array_list.append(loaded_img_array)"
   ]
  },
  {
   "cell_type": "code",
   "execution_count": 22,
   "id": "cecd9ed6",
   "metadata": {},
   "outputs": [
    {
     "data": {
      "image/png": "[encoded data removed]",
      "text/plain": [
       "<Figure size 864x864 with 4 Axes>"
      ]
     },
     "metadata": {},
     "output_type": "display_data"
    }
   ],
   "source": [
    "plt.figure(figsize=(12,12))\n",
    "for i in range(len(img_array_list)):\n",
    "    plt.subplot(1,len(img_array_list),i+1)\n",
    "    plt.xticks([])\n",
    "    plt.yticks([])\n",
    "    plt.title(img_names[i])\n",
    "    plt.imshow(img_array_list[i])"
   ]
  },
  {
   "cell_type": "code",
   "execution_count": 23,
   "id": "65137695",
   "metadata": {},
   "outputs": [],
   "source": [
    "batch_siz=2\n",
    "\n",
    "data_gen = gen.flow(np.array(img_array_list),batch_size=batch_siz)"
   ]
  },
  {
   "cell_type": "code",
   "execution_count": 24,
   "id": "c4adc472",
   "metadata": {},
   "outputs": [
    {
     "data": {
      "image/png": "[encoded data removed]",
      "text/plain": [
       "<Figure size 432x432 with 2 Axes>"
      ]
     },
     "metadata": {},
     "output_type": "display_data"
    }
   ],
   "source": [
    "img = data_gen.next()\n",
    "\n",
    "plt.figure(figsize=(6,6))\n",
    "for i in range(len(img)):\n",
    "    plt.subplot(1,len(img),i+1)\n",
    "    plt.xticks([])\n",
    "    plt.yticks([])\n",
    "    \n",
    "    plt.imshow(img[i])"
   ]
  },
  {
   "cell_type": "code",
   "execution_count": 31,
   "id": "7039cdd4",
   "metadata": {},
   "outputs": [],
   "source": [
    "datagen = ImageDataGenerator(\n",
    "        rotation_range=30,\n",
    "        width_shift_range=0.2,\n",
    "        height_shift_range=0.2,\n",
    "        shear_range=0,\n",
    "        zoom_range=0.2,\n",
    "        horizontal_flip=False,\n",
    "        fill_mode='nearest')\n",
    "\n",
    "img = load_img('./cleansing_data/cat_sample.jpg')  # PIL 이미지\n",
    "x = img_to_array(img)  # (3, 150, 150) 크기의 NumPy 배열\n",
    "x = x.reshape((1,) + x.shape)  # (1, 3, 150, 150) 크기의 NumPy 배열\n",
    "\n",
    "# 아래 .flow() 함수는 임의 변환된 이미지를 배치 단위로 생성해서\n",
    "# 지정된 `preview/` 폴더에 저장합니다.\n",
    "i = 0\n",
    "for batch in datagen.flow(x, batch_size=1,\n",
    "                          save_to_dir= 'test', save_prefix='', save_format='jpeg'):\n",
    "    i += 1\n",
    "    if i > 20:\n",
    "        break  # 이미지 20장을 생성하고 마칩니다"
   ]
  }
 ],
 "metadata": {
  "kernelspec": {
   "display_name": "Python 3",
   "language": "python",
   "name": "python3"
  },
  "language_info": {
   "codemirror_mode": {
    "name": "ipython",
    "version": 3
   },
   "file_extension": ".py",
   "mimetype": "text/x-python",
   "name": "python",
   "nbconvert_exporter": "python",
   "pygments_lexer": "ipython3",
   "version": "3.6.13"
  }
 },
 "nbformat": 4,
 "nbformat_minor": 5
}
